{
 "cells": [
  {
   "cell_type": "markdown",
   "metadata": {},
   "source": [
    "# EDA\n",
    "\n",
    "### Purpose\n",
    "\n",
    "1. To load the given train and test data,\n",
    "2. Identify relationships between different features of the data,\n",
    "3. Generate different data statistics,\n",
    "4. Define and test the custom data cleaning methods"
   ]
  },
  {
   "cell_type": "code",
   "execution_count": 27,
   "metadata": {},
   "outputs": [],
   "source": [
    "import pandas as pd\n",
    "import csv\n",
    "import os"
   ]
  },
  {
   "cell_type": "code",
   "execution_count": 6,
   "metadata": {},
   "outputs": [
    {
     "data": {
      "text/html": [
       "<div>\n",
       "<style scoped>\n",
       "    .dataframe tbody tr th:only-of-type {\n",
       "        vertical-align: middle;\n",
       "    }\n",
       "\n",
       "    .dataframe tbody tr th {\n",
       "        vertical-align: top;\n",
       "    }\n",
       "\n",
       "    .dataframe thead th {\n",
       "        text-align: right;\n",
       "    }\n",
       "</style>\n",
       "<table border=\"1\" class=\"dataframe\">\n",
       "  <thead>\n",
       "    <tr style=\"text-align: right;\">\n",
       "      <th></th>\n",
       "      <th>ID</th>\n",
       "      <th>POSTED</th>\n",
       "      <th>TITLE_RAW</th>\n",
       "      <th>BODY</th>\n",
       "      <th>ONET_NAME</th>\n",
       "      <th>ONET</th>\n",
       "    </tr>\n",
       "  </thead>\n",
       "  <tbody>\n",
       "    <tr>\n",
       "      <th>0</th>\n",
       "      <td>3a9bc988d77e46507f6753429dd848a816d0b9b9</td>\n",
       "      <td>2023-05-03</td>\n",
       "      <td>Executive Meeting Manager</td>\n",
       "      <td>Executive Meeting Manager Marriott La Jolla - ...</td>\n",
       "      <td>Meeting, Convention, and Event Planners</td>\n",
       "      <td>13-1121.00</td>\n",
       "    </tr>\n",
       "    <tr>\n",
       "      <th>1</th>\n",
       "      <td>eb3a017370d55577e892ff8207a640b7d7136f31</td>\n",
       "      <td>2023-05-03</td>\n",
       "      <td>Rehabilitation Technician-Outpatient Rehab-Fle...</td>\n",
       "      <td>Rehabilitation Technician-Outpatient Rehab-Fle...</td>\n",
       "      <td>Occupational Therapy Aides</td>\n",
       "      <td>31-2012.00</td>\n",
       "    </tr>\n",
       "    <tr>\n",
       "      <th>2</th>\n",
       "      <td>8717d2213055d39271bd12490263a7fbe603aedb</td>\n",
       "      <td>2023-05-03</td>\n",
       "      <td>Office/Bookkeeping Assistant</td>\n",
       "      <td>Office/Bookkeeping Assistant\\nSanta Barbara, C...</td>\n",
       "      <td>Office Clerks, General</td>\n",
       "      <td>43-9061.00</td>\n",
       "    </tr>\n",
       "    <tr>\n",
       "      <th>3</th>\n",
       "      <td>43b55e4334835e20e1c64d9ac7bb0a0267369b9e</td>\n",
       "      <td>2023-05-03</td>\n",
       "      <td>Administrative Support Coordinator - VA - (REM...</td>\n",
       "      <td>Find Jobs Administrative Support Coordinator -...</td>\n",
       "      <td>Secretaries and Administrative Assistants, Exc...</td>\n",
       "      <td>43-6014.00</td>\n",
       "    </tr>\n",
       "    <tr>\n",
       "      <th>4</th>\n",
       "      <td>afa355a328687ddb88d6265a237d0375bb36eae7</td>\n",
       "      <td>2023-05-03</td>\n",
       "      <td>Receptionist/Administrative Assistant</td>\n",
       "      <td>Receptionist/Administrative Assistant Burgess ...</td>\n",
       "      <td>Secretaries and Administrative Assistants, Exc...</td>\n",
       "      <td>43-6014.00</td>\n",
       "    </tr>\n",
       "  </tbody>\n",
       "</table>\n",
       "</div>"
      ],
      "text/plain": [
       "                                         ID      POSTED  \\\n",
       "0  3a9bc988d77e46507f6753429dd848a816d0b9b9  2023-05-03   \n",
       "1  eb3a017370d55577e892ff8207a640b7d7136f31  2023-05-03   \n",
       "2  8717d2213055d39271bd12490263a7fbe603aedb  2023-05-03   \n",
       "3  43b55e4334835e20e1c64d9ac7bb0a0267369b9e  2023-05-03   \n",
       "4  afa355a328687ddb88d6265a237d0375bb36eae7  2023-05-03   \n",
       "\n",
       "                                           TITLE_RAW  \\\n",
       "0                          Executive Meeting Manager   \n",
       "1  Rehabilitation Technician-Outpatient Rehab-Fle...   \n",
       "2                       Office/Bookkeeping Assistant   \n",
       "3  Administrative Support Coordinator - VA - (REM...   \n",
       "4              Receptionist/Administrative Assistant   \n",
       "\n",
       "                                                BODY  \\\n",
       "0  Executive Meeting Manager Marriott La Jolla - ...   \n",
       "1  Rehabilitation Technician-Outpatient Rehab-Fle...   \n",
       "2  Office/Bookkeeping Assistant\\nSanta Barbara, C...   \n",
       "3  Find Jobs Administrative Support Coordinator -...   \n",
       "4  Receptionist/Administrative Assistant Burgess ...   \n",
       "\n",
       "                                           ONET_NAME        ONET  \n",
       "0            Meeting, Convention, and Event Planners  13-1121.00  \n",
       "1                         Occupational Therapy Aides  31-2012.00  \n",
       "2                             Office Clerks, General  43-9061.00  \n",
       "3  Secretaries and Administrative Assistants, Exc...  43-6014.00  \n",
       "4  Secretaries and Administrative Assistants, Exc...  43-6014.00  "
      ]
     },
     "execution_count": 6,
     "metadata": {},
     "output_type": "execute_result"
    }
   ],
   "source": [
    "train_df = pd.read_csv(\"../artifacts/data_ingestion/raw_train/train_data.csv\")\n",
    "train_df.head()"
   ]
  },
  {
   "cell_type": "code",
   "execution_count": 7,
   "metadata": {},
   "outputs": [
    {
     "data": {
      "text/html": [
       "<div>\n",
       "<style scoped>\n",
       "    .dataframe tbody tr th:only-of-type {\n",
       "        vertical-align: middle;\n",
       "    }\n",
       "\n",
       "    .dataframe tbody tr th {\n",
       "        vertical-align: top;\n",
       "    }\n",
       "\n",
       "    .dataframe thead th {\n",
       "        text-align: right;\n",
       "    }\n",
       "</style>\n",
       "<table border=\"1\" class=\"dataframe\">\n",
       "  <thead>\n",
       "    <tr style=\"text-align: right;\">\n",
       "      <th></th>\n",
       "      <th>ID</th>\n",
       "      <th>POSTED</th>\n",
       "      <th>TITLE_RAW</th>\n",
       "      <th>BODY</th>\n",
       "      <th>ONET_NAME</th>\n",
       "      <th>ONET</th>\n",
       "    </tr>\n",
       "  </thead>\n",
       "  <tbody>\n",
       "    <tr>\n",
       "      <th>count</th>\n",
       "      <td>17927</td>\n",
       "      <td>17927</td>\n",
       "      <td>17927</td>\n",
       "      <td>17927</td>\n",
       "      <td>17927</td>\n",
       "      <td>17927</td>\n",
       "    </tr>\n",
       "    <tr>\n",
       "      <th>unique</th>\n",
       "      <td>17927</td>\n",
       "      <td>4</td>\n",
       "      <td>14834</td>\n",
       "      <td>17875</td>\n",
       "      <td>699</td>\n",
       "      <td>699</td>\n",
       "    </tr>\n",
       "    <tr>\n",
       "      <th>top</th>\n",
       "      <td>3a9bc988d77e46507f6753429dd848a816d0b9b9</td>\n",
       "      <td>2023-05-16</td>\n",
       "      <td>Assistant Manager</td>\n",
       "      <td>Find jobs\\nSearch\\nEnter any combination of ti...</td>\n",
       "      <td>Registered Nurses</td>\n",
       "      <td>29-1141.00</td>\n",
       "    </tr>\n",
       "    <tr>\n",
       "      <th>freq</th>\n",
       "      <td>1</td>\n",
       "      <td>8192</td>\n",
       "      <td>51</td>\n",
       "      <td>6</td>\n",
       "      <td>959</td>\n",
       "      <td>959</td>\n",
       "    </tr>\n",
       "  </tbody>\n",
       "</table>\n",
       "</div>"
      ],
      "text/plain": [
       "                                              ID      POSTED  \\\n",
       "count                                      17927       17927   \n",
       "unique                                     17927           4   \n",
       "top     3a9bc988d77e46507f6753429dd848a816d0b9b9  2023-05-16   \n",
       "freq                                           1        8192   \n",
       "\n",
       "                TITLE_RAW                                               BODY  \\\n",
       "count               17927                                              17927   \n",
       "unique              14834                                              17875   \n",
       "top     Assistant Manager  Find jobs\\nSearch\\nEnter any combination of ti...   \n",
       "freq                   51                                                  6   \n",
       "\n",
       "                ONET_NAME        ONET  \n",
       "count               17927       17927  \n",
       "unique                699         699  \n",
       "top     Registered Nurses  29-1141.00  \n",
       "freq                  959         959  "
      ]
     },
     "execution_count": 7,
     "metadata": {},
     "output_type": "execute_result"
    }
   ],
   "source": [
    "train_df.describe()"
   ]
  },
  {
   "cell_type": "code",
   "execution_count": 8,
   "metadata": {},
   "outputs": [
    {
     "name": "stdout",
     "output_type": "stream",
     "text": [
      "<class 'pandas.core.frame.DataFrame'>\n",
      "RangeIndex: 17927 entries, 0 to 17926\n",
      "Data columns (total 6 columns):\n",
      " #   Column     Non-Null Count  Dtype \n",
      "---  ------     --------------  ----- \n",
      " 0   ID         17927 non-null  object\n",
      " 1   POSTED     17927 non-null  object\n",
      " 2   TITLE_RAW  17927 non-null  object\n",
      " 3   BODY       17927 non-null  object\n",
      " 4   ONET_NAME  17927 non-null  object\n",
      " 5   ONET       17927 non-null  object\n",
      "dtypes: object(6)\n",
      "memory usage: 840.5+ KB\n"
     ]
    }
   ],
   "source": [
    "train_df.info()"
   ]
  },
  {
   "cell_type": "code",
   "execution_count": 12,
   "metadata": {},
   "outputs": [
    {
     "data": {
      "text/html": [
       "<div>\n",
       "<style scoped>\n",
       "    .dataframe tbody tr th:only-of-type {\n",
       "        vertical-align: middle;\n",
       "    }\n",
       "\n",
       "    .dataframe tbody tr th {\n",
       "        vertical-align: top;\n",
       "    }\n",
       "\n",
       "    .dataframe thead th {\n",
       "        text-align: right;\n",
       "    }\n",
       "</style>\n",
       "<table border=\"1\" class=\"dataframe\">\n",
       "  <thead>\n",
       "    <tr style=\"text-align: right;\">\n",
       "      <th></th>\n",
       "      <th>ID</th>\n",
       "      <th>POSTED</th>\n",
       "      <th>TITLE_RAW</th>\n",
       "      <th>BODY</th>\n",
       "      <th>ONET_NAME</th>\n",
       "      <th>ONET</th>\n",
       "    </tr>\n",
       "  </thead>\n",
       "  <tbody>\n",
       "    <tr>\n",
       "      <th>0</th>\n",
       "      <td>f42f82cfc80cd078f70b900cc9d97e37c609fc18</td>\n",
       "      <td>2022-01-06</td>\n",
       "      <td>Grocery Order Writer (Buyer / Inventory Replen...</td>\n",
       "      <td>Grocery Order Writer (Buyer / Inventory Replen...</td>\n",
       "      <td>Purchasing Agents, Except Wholesale, Retail, a...</td>\n",
       "      <td>13-1023.00</td>\n",
       "    </tr>\n",
       "    <tr>\n",
       "      <th>1</th>\n",
       "      <td>892baace0e78f3c054eb184a6d45639a6191d1c4</td>\n",
       "      <td>2022-01-06</td>\n",
       "      <td>Superintendent</td>\n",
       "      <td>Apply to this job. \\nThink you're the perfect ...</td>\n",
       "      <td>Education Administrators, Kindergarten through...</td>\n",
       "      <td>11-9032.00</td>\n",
       "    </tr>\n",
       "    <tr>\n",
       "      <th>2</th>\n",
       "      <td>aac5926cba525496d8e57bb0f2e5550b9df15267</td>\n",
       "      <td>2022-01-06</td>\n",
       "      <td>Software Developer IV</td>\n",
       "      <td>Software Developer IV\\nJob Locations\\nUS-NE-Om...</td>\n",
       "      <td>Software Developers</td>\n",
       "      <td>15-1252.00</td>\n",
       "    </tr>\n",
       "    <tr>\n",
       "      <th>3</th>\n",
       "      <td>a8c7c1e5250794125a25905073a688e9e8eb62e8</td>\n",
       "      <td>2022-01-06</td>\n",
       "      <td>Auto Glass Technician</td>\n",
       "      <td>Auto Glass Technician Gerber Collision &amp; Glass...</td>\n",
       "      <td>Automotive Service Technicians and Mechanics</td>\n",
       "      <td>49-3023.00</td>\n",
       "    </tr>\n",
       "    <tr>\n",
       "      <th>4</th>\n",
       "      <td>ef5b7131dc91f2bc63458622ea01bc23e365eda8</td>\n",
       "      <td>2022-01-06</td>\n",
       "      <td>Food and Beverage Operations Manager</td>\n",
       "      <td>Food and Beverage Operations Manager Wavetroni...</td>\n",
       "      <td>Food Service Managers</td>\n",
       "      <td>11-9051.00</td>\n",
       "    </tr>\n",
       "  </tbody>\n",
       "</table>\n",
       "</div>"
      ],
      "text/plain": [
       "                                         ID      POSTED  \\\n",
       "0  f42f82cfc80cd078f70b900cc9d97e37c609fc18  2022-01-06   \n",
       "1  892baace0e78f3c054eb184a6d45639a6191d1c4  2022-01-06   \n",
       "2  aac5926cba525496d8e57bb0f2e5550b9df15267  2022-01-06   \n",
       "3  a8c7c1e5250794125a25905073a688e9e8eb62e8  2022-01-06   \n",
       "4  ef5b7131dc91f2bc63458622ea01bc23e365eda8  2022-01-06   \n",
       "\n",
       "                                           TITLE_RAW  \\\n",
       "0  Grocery Order Writer (Buyer / Inventory Replen...   \n",
       "1                                     Superintendent   \n",
       "2                              Software Developer IV   \n",
       "3                              Auto Glass Technician   \n",
       "4               Food and Beverage Operations Manager   \n",
       "\n",
       "                                                BODY  \\\n",
       "0  Grocery Order Writer (Buyer / Inventory Replen...   \n",
       "1  Apply to this job. \\nThink you're the perfect ...   \n",
       "2  Software Developer IV\\nJob Locations\\nUS-NE-Om...   \n",
       "3  Auto Glass Technician Gerber Collision & Glass...   \n",
       "4  Food and Beverage Operations Manager Wavetroni...   \n",
       "\n",
       "                                           ONET_NAME        ONET  \n",
       "0  Purchasing Agents, Except Wholesale, Retail, a...  13-1023.00  \n",
       "1  Education Administrators, Kindergarten through...  11-9032.00  \n",
       "2                                Software Developers  15-1252.00  \n",
       "3       Automotive Service Technicians and Mechanics  49-3023.00  \n",
       "4                              Food Service Managers  11-9051.00  "
      ]
     },
     "execution_count": 12,
     "metadata": {},
     "output_type": "execute_result"
    }
   ],
   "source": [
    "train_df = pd.read_csv(\"../artifacts/data_ingestion/raw_train/train_data.csv\")\n",
    "test_df.head()"
   ]
  },
  {
   "cell_type": "code",
   "execution_count": 13,
   "metadata": {},
   "outputs": [
    {
     "data": {
      "text/html": [
       "<div>\n",
       "<style scoped>\n",
       "    .dataframe tbody tr th:only-of-type {\n",
       "        vertical-align: middle;\n",
       "    }\n",
       "\n",
       "    .dataframe tbody tr th {\n",
       "        vertical-align: top;\n",
       "    }\n",
       "\n",
       "    .dataframe thead th {\n",
       "        text-align: right;\n",
       "    }\n",
       "</style>\n",
       "<table border=\"1\" class=\"dataframe\">\n",
       "  <thead>\n",
       "    <tr style=\"text-align: right;\">\n",
       "      <th></th>\n",
       "      <th>ID</th>\n",
       "      <th>POSTED</th>\n",
       "      <th>TITLE_RAW</th>\n",
       "      <th>BODY</th>\n",
       "      <th>ONET_NAME</th>\n",
       "      <th>ONET</th>\n",
       "    </tr>\n",
       "  </thead>\n",
       "  <tbody>\n",
       "    <tr>\n",
       "      <th>count</th>\n",
       "      <td>19394</td>\n",
       "      <td>19394</td>\n",
       "      <td>19394</td>\n",
       "      <td>19394</td>\n",
       "      <td>19394</td>\n",
       "      <td>19394</td>\n",
       "    </tr>\n",
       "    <tr>\n",
       "      <th>unique</th>\n",
       "      <td>19394</td>\n",
       "      <td>6</td>\n",
       "      <td>15815</td>\n",
       "      <td>19006</td>\n",
       "      <td>708</td>\n",
       "      <td>708</td>\n",
       "    </tr>\n",
       "    <tr>\n",
       "      <th>top</th>\n",
       "      <td>f42f82cfc80cd078f70b900cc9d97e37c609fc18</td>\n",
       "      <td>2022-01-07</td>\n",
       "      <td>Administrative Assistant</td>\n",
       "      <td>Candidates\\nEmployers\\nHiring Companies\\nNews ...</td>\n",
       "      <td>Registered Nurses</td>\n",
       "      <td>29-1141.00</td>\n",
       "    </tr>\n",
       "    <tr>\n",
       "      <th>freq</th>\n",
       "      <td>1</td>\n",
       "      <td>5547</td>\n",
       "      <td>58</td>\n",
       "      <td>41</td>\n",
       "      <td>765</td>\n",
       "      <td>765</td>\n",
       "    </tr>\n",
       "  </tbody>\n",
       "</table>\n",
       "</div>"
      ],
      "text/plain": [
       "                                              ID      POSTED  \\\n",
       "count                                      19394       19394   \n",
       "unique                                     19394           6   \n",
       "top     f42f82cfc80cd078f70b900cc9d97e37c609fc18  2022-01-07   \n",
       "freq                                           1        5547   \n",
       "\n",
       "                       TITLE_RAW  \\\n",
       "count                      19394   \n",
       "unique                     15815   \n",
       "top     Administrative Assistant   \n",
       "freq                          58   \n",
       "\n",
       "                                                     BODY          ONET_NAME  \\\n",
       "count                                               19394              19394   \n",
       "unique                                              19006                708   \n",
       "top     Candidates\\nEmployers\\nHiring Companies\\nNews ...  Registered Nurses   \n",
       "freq                                                   41                765   \n",
       "\n",
       "              ONET  \n",
       "count        19394  \n",
       "unique         708  \n",
       "top     29-1141.00  \n",
       "freq           765  "
      ]
     },
     "execution_count": 13,
     "metadata": {},
     "output_type": "execute_result"
    }
   ],
   "source": [
    "test_df.describe()"
   ]
  },
  {
   "cell_type": "code",
   "execution_count": 14,
   "metadata": {},
   "outputs": [
    {
     "name": "stdout",
     "output_type": "stream",
     "text": [
      "<class 'pandas.core.frame.DataFrame'>\n",
      "RangeIndex: 19394 entries, 0 to 19393\n",
      "Data columns (total 6 columns):\n",
      " #   Column     Non-Null Count  Dtype \n",
      "---  ------     --------------  ----- \n",
      " 0   ID         19394 non-null  object\n",
      " 1   POSTED     19394 non-null  object\n",
      " 2   TITLE_RAW  19394 non-null  object\n",
      " 3   BODY       19394 non-null  object\n",
      " 4   ONET_NAME  19394 non-null  object\n",
      " 5   ONET       19394 non-null  object\n",
      "dtypes: object(6)\n",
      "memory usage: 909.2+ KB\n"
     ]
    }
   ],
   "source": [
    "test_df.info()"
   ]
  },
  {
   "cell_type": "code",
   "execution_count": null,
   "metadata": {},
   "outputs": [],
   "source": []
  },
  {
   "cell_type": "markdown",
   "metadata": {},
   "source": [
    "### Relationship of inputs such as the title and O*NETs"
   ]
  },
  {
   "cell_type": "code",
   "execution_count": 17,
   "metadata": {},
   "outputs": [
    {
     "data": {
      "text/plain": [
       "(14834, 699)"
      ]
     },
     "execution_count": 17,
     "metadata": {},
     "output_type": "execute_result"
    }
   ],
   "source": [
    "# cross assigning titles to onets to get unique counts\n",
    "cross_tab = pd.crosstab(train_df['TITLE_RAW'], train_df['ONET_NAME'])\n",
    "cross_tab.shape"
   ]
  },
  {
   "cell_type": "code",
   "execution_count": 18,
   "metadata": {},
   "outputs": [
    {
     "data": {
      "text/plain": [
       "ONET_NAME\n",
       "Zoologists and Wildlife Biologists                                                                1\n",
       "Gas Compressor and Gas Pumping Station Operators                                                  1\n",
       "Genetic Counselors                                                                                1\n",
       "Geological Technicians, Except Hydrologic Technicians                                             1\n",
       "Geoscientists, Except Hydrologists and Geographers                                                1\n",
       "                                                                                               ... \n",
       "Sales Representatives, Wholesale and Manufacturing, Except Technical and Scientific Products    310\n",
       "First-Line Supervisors of Retail Sales Workers                                                  311\n",
       "Retail Salespersons                                                                             405\n",
       "Unclassified                                                                                    570\n",
       "Registered Nurses                                                                               890\n",
       "Name: TITLE_RAW, Length: 699, dtype: int64"
      ]
     },
     "execution_count": 18,
     "metadata": {},
     "output_type": "execute_result"
    }
   ],
   "source": [
    "# Grouping ONETS and titles\n",
    "grouped = train_df.groupby(['ONET_NAME'])['TITLE_RAW'].nunique()\n",
    "grouped.sort_values()"
   ]
  },
  {
   "cell_type": "code",
   "execution_count": 19,
   "metadata": {},
   "outputs": [
    {
     "data": {
      "text/html": [
       "<div>\n",
       "<style scoped>\n",
       "    .dataframe tbody tr th:only-of-type {\n",
       "        vertical-align: middle;\n",
       "    }\n",
       "\n",
       "    .dataframe tbody tr th {\n",
       "        vertical-align: top;\n",
       "    }\n",
       "\n",
       "    .dataframe thead th {\n",
       "        text-align: right;\n",
       "    }\n",
       "</style>\n",
       "<table border=\"1\" class=\"dataframe\">\n",
       "  <thead>\n",
       "    <tr style=\"text-align: right;\">\n",
       "      <th></th>\n",
       "      <th>ID</th>\n",
       "      <th>POSTED</th>\n",
       "      <th>TITLE_RAW</th>\n",
       "      <th>BODY</th>\n",
       "      <th>ONET_NAME</th>\n",
       "      <th>ONET</th>\n",
       "    </tr>\n",
       "  </thead>\n",
       "  <tbody>\n",
       "    <tr>\n",
       "      <th>752</th>\n",
       "      <td>641b04cd25f26ef387963628e1faf8d73ba2617e</td>\n",
       "      <td>2023-05-03</td>\n",
       "      <td>Porter</td>\n",
       "      <td>Porter\\n\\nPeopleReady of Auburn, AL is now hir...</td>\n",
       "      <td>Janitors and Cleaners, Except Maids and Housek...</td>\n",
       "      <td>37-2011.00</td>\n",
       "    </tr>\n",
       "    <tr>\n",
       "      <th>3168</th>\n",
       "      <td>5e0e06c46445b0f3861f315b0e906c406b6b9a0c</td>\n",
       "      <td>2023-05-04</td>\n",
       "      <td>Porter</td>\n",
       "      <td>Porter Arbors Assisted Living @ Hauppauge Haup...</td>\n",
       "      <td>Parking Attendants</td>\n",
       "      <td>53-6021.00</td>\n",
       "    </tr>\n",
       "    <tr>\n",
       "      <th>4987</th>\n",
       "      <td>c1f8dba94d25e81616fe15411f1b6c928804c6c5</td>\n",
       "      <td>2023-05-04</td>\n",
       "      <td>Porter</td>\n",
       "      <td>Job Description\\n\\n \\n Camping World Holdings,...</td>\n",
       "      <td>Cleaners of Vehicles and Equipment</td>\n",
       "      <td>53-7061.00</td>\n",
       "    </tr>\n",
       "    <tr>\n",
       "      <th>5437</th>\n",
       "      <td>c0ed8bbbcecf60328b08e7a4dba72723ab0e5fe4</td>\n",
       "      <td>2023-05-04</td>\n",
       "      <td>Porter</td>\n",
       "      <td>Porter Essex Property Trust, Inc. San Diego, C...</td>\n",
       "      <td>Janitors and Cleaners, Except Maids and Housek...</td>\n",
       "      <td>37-2011.00</td>\n",
       "    </tr>\n",
       "    <tr>\n",
       "      <th>6070</th>\n",
       "      <td>c12b5a7cc6cdf8b756fa4c6487393f8d658d2561</td>\n",
       "      <td>2023-05-04</td>\n",
       "      <td>Porter</td>\n",
       "      <td>Porter #23-6491\\n \\n\\n Saukville, WI\\nPOSITION...</td>\n",
       "      <td>Cleaners of Vehicles and Equipment</td>\n",
       "      <td>53-7061.00</td>\n",
       "    </tr>\n",
       "    <tr>\n",
       "      <th>8335</th>\n",
       "      <td>26ab28f744401ab26a457051f2ee645e38867a72</td>\n",
       "      <td>2023-05-16</td>\n",
       "      <td>Porter</td>\n",
       "      <td>Porter Housing Authority of Bexar County San A...</td>\n",
       "      <td>Janitors and Cleaners, Except Maids and Housek...</td>\n",
       "      <td>37-2011.00</td>\n",
       "    </tr>\n",
       "    <tr>\n",
       "      <th>10182</th>\n",
       "      <td>c35296f6beba48bab99da48a3bb2b7f2bc3a01a3</td>\n",
       "      <td>2023-05-16</td>\n",
       "      <td>Porter</td>\n",
       "      <td>Porter Embrey Management Services LTD. Denver,...</td>\n",
       "      <td>Maintenance and Repair Workers, General</td>\n",
       "      <td>49-9071.00</td>\n",
       "    </tr>\n",
       "    <tr>\n",
       "      <th>10340</th>\n",
       "      <td>3d2e8b665329a5085add70fc0258677f16785d7c</td>\n",
       "      <td>2023-05-16</td>\n",
       "      <td>Porter</td>\n",
       "      <td>Porter ANTOINE'S FAMOUS CAKES Gretna, LA 70053...</td>\n",
       "      <td>Janitors and Cleaners, Except Maids and Housek...</td>\n",
       "      <td>37-2011.00</td>\n",
       "    </tr>\n",
       "    <tr>\n",
       "      <th>13108</th>\n",
       "      <td>14b5a89d1399436a2daf38456ca95f4143b52b19</td>\n",
       "      <td>2023-05-16</td>\n",
       "      <td>Porter</td>\n",
       "      <td>Porter Carolina Sweepers Cary, NC 27519 $14 an...</td>\n",
       "      <td>Janitors and Cleaners, Except Maids and Housek...</td>\n",
       "      <td>37-2011.00</td>\n",
       "    </tr>\n",
       "    <tr>\n",
       "      <th>17302</th>\n",
       "      <td>90be9abeb312c02fe7dda8f8dfb9980783bfdef5</td>\n",
       "      <td>2023-01-19</td>\n",
       "      <td>Porter</td>\n",
       "      <td>Porter\\nGanado, TX, United States\\n|\\nreq58260...</td>\n",
       "      <td>Janitors and Cleaners, Except Maids and Housek...</td>\n",
       "      <td>37-2011.00</td>\n",
       "    </tr>\n",
       "  </tbody>\n",
       "</table>\n",
       "</div>"
      ],
      "text/plain": [
       "                                             ID      POSTED TITLE_RAW  \\\n",
       "752    641b04cd25f26ef387963628e1faf8d73ba2617e  2023-05-03    Porter   \n",
       "3168   5e0e06c46445b0f3861f315b0e906c406b6b9a0c  2023-05-04    Porter   \n",
       "4987   c1f8dba94d25e81616fe15411f1b6c928804c6c5  2023-05-04    Porter   \n",
       "5437   c0ed8bbbcecf60328b08e7a4dba72723ab0e5fe4  2023-05-04    Porter   \n",
       "6070   c12b5a7cc6cdf8b756fa4c6487393f8d658d2561  2023-05-04    Porter   \n",
       "8335   26ab28f744401ab26a457051f2ee645e38867a72  2023-05-16    Porter   \n",
       "10182  c35296f6beba48bab99da48a3bb2b7f2bc3a01a3  2023-05-16    Porter   \n",
       "10340  3d2e8b665329a5085add70fc0258677f16785d7c  2023-05-16    Porter   \n",
       "13108  14b5a89d1399436a2daf38456ca95f4143b52b19  2023-05-16    Porter   \n",
       "17302  90be9abeb312c02fe7dda8f8dfb9980783bfdef5  2023-01-19    Porter   \n",
       "\n",
       "                                                    BODY  \\\n",
       "752    Porter\\n\\nPeopleReady of Auburn, AL is now hir...   \n",
       "3168   Porter Arbors Assisted Living @ Hauppauge Haup...   \n",
       "4987   Job Description\\n\\n \\n Camping World Holdings,...   \n",
       "5437   Porter Essex Property Trust, Inc. San Diego, C...   \n",
       "6070   Porter #23-6491\\n \\n\\n Saukville, WI\\nPOSITION...   \n",
       "8335   Porter Housing Authority of Bexar County San A...   \n",
       "10182  Porter Embrey Management Services LTD. Denver,...   \n",
       "10340  Porter ANTOINE'S FAMOUS CAKES Gretna, LA 70053...   \n",
       "13108  Porter Carolina Sweepers Cary, NC 27519 $14 an...   \n",
       "17302  Porter\\nGanado, TX, United States\\n|\\nreq58260...   \n",
       "\n",
       "                                               ONET_NAME        ONET  \n",
       "752    Janitors and Cleaners, Except Maids and Housek...  37-2011.00  \n",
       "3168                                  Parking Attendants  53-6021.00  \n",
       "4987                  Cleaners of Vehicles and Equipment  53-7061.00  \n",
       "5437   Janitors and Cleaners, Except Maids and Housek...  37-2011.00  \n",
       "6070                  Cleaners of Vehicles and Equipment  53-7061.00  \n",
       "8335   Janitors and Cleaners, Except Maids and Housek...  37-2011.00  \n",
       "10182            Maintenance and Repair Workers, General  49-9071.00  \n",
       "10340  Janitors and Cleaners, Except Maids and Housek...  37-2011.00  \n",
       "13108  Janitors and Cleaners, Except Maids and Housek...  37-2011.00  \n",
       "17302  Janitors and Cleaners, Except Maids and Housek...  37-2011.00  "
      ]
     },
     "execution_count": 19,
     "metadata": {},
     "output_type": "execute_result"
    }
   ],
   "source": [
    "# Checking a title and corresponding O*NETs\n",
    "train_df[train_df['TITLE_RAW'] == \"Porter\"]"
   ]
  },
  {
   "cell_type": "code",
   "execution_count": null,
   "metadata": {},
   "outputs": [],
   "source": []
  },
  {
   "cell_type": "code",
   "execution_count": null,
   "metadata": {},
   "outputs": [],
   "source": []
  },
  {
   "cell_type": "markdown",
   "metadata": {},
   "source": [
    "### Get O*NET stats"
   ]
  },
  {
   "cell_type": "code",
   "execution_count": 21,
   "metadata": {},
   "outputs": [
    {
     "name": "stdout",
     "output_type": "stream",
     "text": [
      "individual train test: 699 708\n",
      "intersection: 602\n",
      "union: 805\n"
     ]
    }
   ],
   "source": [
    "# ONET Stats\n",
    "train_onets  = set(train_df.ONET_NAME.to_list())\n",
    "test_onets = set(test_df.ONET_NAME.to_list())\n",
    "print(\"individual train test:\", len(train_onets), len(test_onets))\n",
    "print(\"intersection:\", len(train_onets.intersection(test_onets)))\n",
    "print(\"union:\", len(train_onets.union(test_onets)))"
   ]
  },
  {
   "cell_type": "code",
   "execution_count": 36,
   "metadata": {},
   "outputs": [],
   "source": [
    "def get_all_onets(onet_data_path=\"../data/raw/All_Occupations.csv\"):\n",
    "    \"\"\" \n",
    "    This method returns list of all ONETs available on the official site\n",
    "    \n",
    "    Input: path: str -->  (Optional) Path to the onet csv file\n",
    "\n",
    "    Output: : all_onets_original: list[str] --> all ONETs available\n",
    "    \"\"\"\n",
    "    all_occupations_df = pd.read_csv(onet_data_path)\n",
    "    all_onets_original = all_occupations_df.Occupation.to_list()\n",
    "    return all_onets_original"
   ]
  },
  {
   "cell_type": "code",
   "execution_count": 24,
   "metadata": {},
   "outputs": [
    {
     "name": "stdout",
     "output_type": "stream",
     "text": [
      "Total onets in original big list :  1017\n",
      "train onets in original big list :  699\n",
      "test onets in original big list :  708\n",
      "train+test onets in original big list :  805\n"
     ]
    }
   ],
   "source": [
    "# Check stats with original onet data\n",
    "all_occupations_df = pd.read_csv(\"../data/raw/All_Occupations.csv\")\n",
    "all_onets_original = set(all_occupations_df.Occupation.to_list())\n",
    "print(\"Total onets in original big list : \",len(all_onets_original))\n",
    "print(\"train onets in original big list : \",len(all_onets_original.intersection(train_onets)))\n",
    "print(\"test onets in original big list : \",len(all_onets_original.intersection(test_onets)))\n",
    "print(\"train+test onets in original big list : \",len(all_onets_original.intersection(train_onets.union(test_onets))))"
   ]
  },
  {
   "cell_type": "code",
   "execution_count": null,
   "metadata": {},
   "outputs": [],
   "source": []
  },
  {
   "cell_type": "code",
   "execution_count": null,
   "metadata": {},
   "outputs": [],
   "source": []
  },
  {
   "cell_type": "markdown",
   "metadata": {},
   "source": [
    "### Data cleaning and preparation\n",
    "\n",
    "Testing the functions to be used for data cleaning and preparation"
   ]
  },
  {
   "cell_type": "code",
   "execution_count": 31,
   "metadata": {},
   "outputs": [
    {
     "name": "stderr",
     "output_type": "stream",
     "text": [
      "[nltk_data] Downloading package stopwords to\n",
      "[nltk_data]     C:\\Users\\shrin\\AppData\\Roaming\\nltk_data...\n",
      "[nltk_data]   Package stopwords is already up-to-date!\n"
     ]
    }
   ],
   "source": [
    "# Get list of stopwords\n",
    "import nltk\n",
    "from nltk.corpus import stopwords\n",
    "nltk.download('stopwords')\n",
    "import string"
   ]
  },
  {
   "cell_type": "code",
   "execution_count": 30,
   "metadata": {},
   "outputs": [
    {
     "name": "stdout",
     "output_type": "stream",
     "text": [
      "['job', 'role ', 'position', 'responsibilities', 'responsibility']\n"
     ]
    }
   ],
   "source": [
    "def get_special_tokens(path=\"../data/raw/special_words.txt\"):\n",
    "    \"\"\" \n",
    "    This method returns list of special words to be removed from the text.\n",
    "    \n",
    "    Input: path: str --> Path to the word file\n",
    "\n",
    "    Output: : special_tokens: list[str] --> all words/special tokens to be removed\n",
    "    \"\"\"\n",
    "    special_tokens=[]\n",
    "    if not os.path.exists(path):\n",
    "        return []\n",
    "\n",
    "    with open(path, \"r\") as f:\n",
    "        special_tokens = f.readlines()\n",
    "    special_tokens = [line.rstrip('\\n') for line in special_tokens]\n",
    "    \n",
    "    return special_tokens\n",
    "\n",
    "print(get_special_tokens()[:5])"
   ]
  },
  {
   "cell_type": "code",
   "execution_count": 32,
   "metadata": {},
   "outputs": [
    {
     "name": "stdout",
     "output_type": "stream",
     "text": [
      "Original Text:  Executive Meeting Manager \n",
      " Cleaned Text:  executive meeting manager\n"
     ]
    }
   ],
   "source": [
    "def clean_text(text, stop_words=stopwords.words('english'), punct=string.punctuation, special_tokens=[]):\n",
    "        \"\"\" \n",
    "        This method returns cleaned String from an input string. \n",
    "        Removes stop words, punctuations, numbers and any special tokens given.\n",
    "        \n",
    "        Input:  text : str                  --> input string to be cleaned\n",
    "                stop_words : list[str]      --> (Optional) list of stop words to be removed from the text\n",
    "                punct : list[str]           --> (Optional) list of punctuations to be removed from the text\n",
    "                special_tokens : list[str]  --> (Optional) list of special words to be removed from the text\n",
    "\n",
    "        Output: text: string:  cleaned text\n",
    "        \"\"\"\n",
    "\n",
    "        text= text.lower()\n",
    "        \n",
    "        text = text.replace(\"\\n\",\" \")\n",
    "        \n",
    "        text = text.replace(r'[0-9]+', ' ')\n",
    "        text = text.replace(r'[^\\w\\s]', ' ')\n",
    "        text = text.replace(r'[^a-zA-Z]', ' ')\n",
    "        for p in punct:\n",
    "            text = text.replace(p,\" \") \n",
    "            \n",
    "        text = ' '.join([word for word in text.split() if word not in stop_words])\n",
    "        text = ' '.join([word for word in text.split() if word not in special_tokens])\n",
    "        text = ''.join([i for i in text if not i.isdigit()])\n",
    "        text = text.replace(r'\\s+', ' ')\n",
    "        text = ' '.join([i for i in text.split() if len(i)>1])\n",
    "        \n",
    "        text = text.replace(r'\\s+', ' ')\n",
    "        return text\n",
    "\n",
    "print(\"Original Text: \", train_df[\"TITLE_RAW\"][0], \"\\n\", \"Cleaned Text: \",clean_text(train_df[\"TITLE_RAW\"][0]))"
   ]
  },
  {
   "cell_type": "code",
   "execution_count": 34,
   "metadata": {},
   "outputs": [
    {
     "name": "stdout",
     "output_type": "stream",
     "text": [
      "Cleaned Job Post: \n",
      "  [TTL] executive meeting manager [DESC] executive meeting manager marriott la jolla la jolla ca ago free parking disability matching discount life microsoft word hospitality microsoft excel detailing sales military catering revenue management high school ged bachelor forecasting computer communication negotiation hotel us surround modern comforts san diego marriott la jolla stylish hotel positions near dazzling destinations la jolla shores birch aquarium california san diego beautiful new westfield utc shopping mall associates enjoy free meals newly renovated associate cafeteria monthly town hall luncheon ballroom special delights chef games prizes also offer free parking site hotel discounts marriott starwood brands worldwide come see us today learn meet every single requirement studies shown women people color less likely jobs unless meet every single qualification hei dedicated building diverse inclusive workplace excited role align perfectly every qualification encourage still send perfect candidate roles within organization value military invite qualified military candidates overview executive meeting manager brings bear organizational detailing identify implement profitable execution groups ensure group manager responsible meets exceeds revenue expectations based contracts active positive contribution towards high performance within convention department customer advocacy sustained revenue achievement communication participation understanding monthly forecasting annual budget process understand importance raising meeting planner evaluation scores implement effective methods ensure exceeding meeting planner satisfaction optimize room rental charges consistently participate booking repeat business track record long term client relationships actively participate industry related organizations nace mpi thorough knowledge sales techniques closing well negotiating comfortable hotel site inspections client presentations creative provide innovative set ups menus functions groups generate creative innovative menus closely chef pricing specialty menus closely banquet department operations event execution quickly evaluate alternatives decide plan action provide overall direction coordination ongoing evaluation operations detailed execution banquet event orders generated convention department providing audio visual equipment operating audio visual profit center knowledge computers specifically delphi word excel monitor group room blocks pick generate detailed resumes operating departments outside vendors ensure client satisfaction events groups comply attendance rules basis perform related duties assigned prior field hospitality specific catering sales essential year within hospitality industry similar size quality hotel high school bachelors possess computer microsoft word excel delphi knowledge sales revenue management training motivation peers knowledge hotel features competing hotels within market execute appropriate action plans knowledge hotel operations marketing plans security safety programs personnel labor relations preparation business plans repairs maintenance budget forecasting quality assurance programs hospitality law long range planning effectively constraints deadlines effective verbal written communication adapt communication style suit different audiences effectively communicating supervisors coworkers public etc hei hotels resorts committed providing comprehensive benefit offers choices physical mental financial wellness creating value important investment physical mental wellness offer competitive medical programs anthem blue cross blue shield well programs eyemed vacation sick holiday programs rejuvenate financial wellness hei provides wide array coverage supplemental spousal child life well short long term disability plans savings plan matching funds discounts youdecide hotel room discount programs provide additional incentives choosing hei future specific eligibility programs vary status today get paid today proudly partner dailypay voluntary benefit allows associates access earnings want hei hotels resorts equal evaluate qualified applicants regard color religion sex sexual identity national origin disability veteran status legally protected characteristics\n"
     ]
    }
   ],
   "source": [
    "def get_clean_job_str(job_title, job_post):\n",
    "    \"\"\" \n",
    "    This method returns cleaned Job Posting from Job Title and Job String. \n",
    "    Appends title and body tokens and concatenates the two.\n",
    "    \n",
    "    Input: Job Title Raw : string\n",
    "            Job Body Raw : string\n",
    "    Output: job_str: string:  cleaned and concatenated job details\n",
    "    \"\"\"\n",
    "    title_token = \"[TTL] \"\n",
    "    body_token = \" [DESC] \"\n",
    "\n",
    "    job_title = clean_text(job_title, special_tokens=get_special_tokens())\n",
    "    job_post = clean_text(job_post, special_tokens=get_special_tokens())\n",
    "\n",
    "    job_str = title_token + job_title + body_token + job_post\n",
    "\n",
    "    return job_str\n",
    "\n",
    "print(\"Cleaned Job Post: \\n \", get_clean_job_str(train_df[\"TITLE_RAW\"][0], train_df[\"BODY\"][0]))"
   ]
  },
  {
   "cell_type": "code",
   "execution_count": 49,
   "metadata": {},
   "outputs": [
    {
     "name": "stdout",
     "output_type": "stream",
     "text": [
      "id:  0  is mapped to O*NET:  Accountants and Auditors\n",
      "id:  1  is mapped to O*NET:  Actors\n",
      "id:  2  is mapped to O*NET:  Actuaries\n",
      "id:  3  is mapped to O*NET:  Acupuncturists\n",
      "id:  4  is mapped to O*NET:  Acute Care Nurses\n",
      "\n",
      "O*NET:  Accountants and Auditors  is mapped to id:  0\n",
      "O*NET:  Actors  is mapped to id:  1\n",
      "O*NET:  Actuaries  is mapped to id:  2\n",
      "O*NET:  Acupuncturists  is mapped to id:  3\n",
      "O*NET:  Acute Care Nurses  is mapped to id:  4\n"
     ]
    }
   ],
   "source": [
    "def get_onet_dicts(all_onets_original=get_all_onets()):\n",
    "    \"\"\" \n",
    "    This method returns 2 dictionaries used to map standard ONET Names to string IDs. \n",
    "    \n",
    "    Input: all_onets_original: list[str] --> (Optional) list of all ONETs\n",
    "\n",
    "    Output: : id_to_onet_dict: dict[str, str] --> standard mapping of string id to ONETs --> \"id\" : \"ONET_NAME\"\n",
    "              onet_to_id_dict: dict[str, str] --> standard mapping of ONETs to string id --> \"ONET_NAME\" : \"id\"\n",
    "    \"\"\"\n",
    "    id_to_onet_dict = {str(id):onet for id, onet in enumerate(all_onets_original)}\n",
    "    onet_to_id_dict = {onet:id for id,onet in id_to_onet_dict.items()}\n",
    "    return id_to_onet_dict, onet_to_id_dict\n",
    "\n",
    "id_to_onet_dict, onet_to_id_dict = get_onet_dicts()\n",
    "\n",
    "\n",
    "for id in list(id_to_onet_dict.keys())[:5]: \n",
    "    print(\"id: \", id, \" is mapped to O*NET: \", id_to_onet_dict[id])\n",
    "print()  \n",
    "for onet in list(onet_to_id_dict.keys())[:5]: \n",
    "    print(\"O*NET: \", onet, \" is mapped to id: \", onet_to_id_dict[onet])"
   ]
  },
  {
   "cell_type": "code",
   "execution_count": null,
   "metadata": {},
   "outputs": [],
   "source": []
  }
 ],
 "metadata": {
  "kernelspec": {
   "display_name": "fetch",
   "language": "python",
   "name": "python3"
  },
  "language_info": {
   "codemirror_mode": {
    "name": "ipython",
    "version": 3
   },
   "file_extension": ".py",
   "mimetype": "text/x-python",
   "name": "python",
   "nbconvert_exporter": "python",
   "pygments_lexer": "ipython3",
   "version": "3.10.0"
  }
 },
 "nbformat": 4,
 "nbformat_minor": 2
}
