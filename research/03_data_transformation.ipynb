{
 "cells": [
  {
   "cell_type": "code",
   "execution_count": 1,
   "metadata": {},
   "outputs": [],
   "source": [
    "import os"
   ]
  },
  {
   "cell_type": "code",
   "execution_count": 2,
   "metadata": {},
   "outputs": [],
   "source": [
    "os.chdir(\"../\")"
   ]
  },
  {
   "cell_type": "code",
   "execution_count": 3,
   "metadata": {},
   "outputs": [
    {
     "data": {
      "text/plain": [
       "'c:\\\\Users\\\\shrin\\\\Documents\\\\Python_Scripts\\\\adept\\\\Job-Classification'"
      ]
     },
     "execution_count": 3,
     "metadata": {},
     "output_type": "execute_result"
    }
   ],
   "source": [
    "pwd"
   ]
  },
  {
   "cell_type": "code",
   "execution_count": 4,
   "metadata": {},
   "outputs": [],
   "source": [
    "from dataclasses import dataclass\n",
    "from pathlib import Path\n",
    "\n",
    "@dataclass(frozen=True)\n",
    "class DataTransformationConfig():\n",
    "    root_dir: Path\n",
    "    data_path: Path"
   ]
  },
  {
   "cell_type": "code",
   "execution_count": 5,
   "metadata": {},
   "outputs": [],
   "source": [
    "from jobClassification.constants import *\n",
    "from jobClassification.utils.common import read_yaml, create_directories"
   ]
  },
  {
   "cell_type": "code",
   "execution_count": 6,
   "metadata": {},
   "outputs": [],
   "source": [
    "class ConfigurationManager:\n",
    "    def __init__(\n",
    "        self,\n",
    "        config_filepath = CONFIG_FILE_PATH,\n",
    "        params_filepath = PARAMS_FILE_PATH):\n",
    "\n",
    "        self.config = read_yaml(config_filepath)\n",
    "        self.params = read_yaml(params_filepath)\n",
    "\n",
    "        create_directories([self.config.artifacts_root])\n",
    "\n",
    "\n",
    "    \n",
    "    def get_data_transformation_config(self) -> DataTransformationConfig:\n",
    "        config = self.config.data_transformation\n",
    "\n",
    "        create_directories([config.root_dir])\n",
    "\n",
    "        data_transformation_config = DataTransformationConfig(\n",
    "            root_dir=config.root_dir,\n",
    "            data_path=config.data_path\n",
    "        )\n",
    "\n",
    "        return data_transformation_config"
   ]
  },
  {
   "cell_type": "code",
   "execution_count": 25,
   "metadata": {},
   "outputs": [],
   "source": [
    "import os\n",
    "from jobClassification.logging import logger\n",
    "from sentence_transformers import InputExample, evaluation\n",
    "from datasets import load_dataset, load_from_disk, DatasetDict, Dataset\n",
    "import torch\n",
    "from torch.utils.data import DataLoader\n",
    "\n",
    "import pandas as pd\n",
    "from jobClassification.utils.common import get_clean_job_str\n",
    "from sklearn.model_selection import train_test_split\n"
   ]
  },
  {
   "cell_type": "code",
   "execution_count": 31,
   "metadata": {},
   "outputs": [],
   "source": [
    "class DataTransformation:\n",
    "    def __init__(self, config: DataTransformationConfig):\n",
    "        self.config = config\n",
    "\n",
    "\n",
    "    def get_dataloader(self, data, split):\n",
    "        examples = []\n",
    "        data = data[split]\n",
    "        n_examples = data.num_rows\n",
    "\n",
    "        for i in range(n_examples):\n",
    "            example = data[i]\n",
    "            examples.append(InputExample(texts=[example['CLEAN_JOB'], example['ONET_NAME']], label=float(1)))\n",
    "        logger.info(f\"in {split}, We have a {type(examples)} of length {len(examples)} containing {type(examples[0])}'s.\")\n",
    "        dataloader = DataLoader(examples, shuffle=True, batch_size=16)\n",
    "        return examples, dataloader\n",
    "\n",
    "    def convert(self):\n",
    "\n",
    "        # get csv data to df\n",
    "        train_df = pd.read_csv(self.config.data_path+\"raw_train/train_data.csv\").head()\n",
    "        print(\"TITLE_RAW\"  in train_df.columns)\n",
    "        test_df = pd.read_csv(self.config.data_path+\"raw_test/test_data.csv\").head()\n",
    "\n",
    "        # add clean col to df\n",
    "        train_df[\"CLEAN_JOB\"] = train_df.apply(lambda x:get_clean_job_str(x[\"TITLE_RAW\"], x[\"BODY\"]), axis=1)\n",
    "        test_df[\"CLEAN_JOB\"] = test_df.apply(lambda x:get_clean_job_str(x[\"TITLE_RAW\"], x[\"BODY\"]), axis=1)\n",
    "\n",
    "        # split train/val/test data\n",
    "        train_ratio = 0.85\n",
    "        val_ratio = 0.15\n",
    "        train_df, val_df = train_test_split(train_df, test_size=1 - train_ratio, random_state=42, shuffle=True)\n",
    "\n",
    "        final_data = DatasetDict({\n",
    "            \"train\" : Dataset.from_pandas(train_df).remove_columns([\"__index_level_0__\"]),\n",
    "            \"val\" : Dataset.from_pandas(val_df).remove_columns([\"__index_level_0__\"]),\n",
    "            \"test\" : Dataset.from_pandas(test_df)\n",
    "        })\n",
    "        #final_data.save_to_disk( os.path.join(self.config.data_path,\"final_data/\"))\n",
    "\n",
    "        dataset = final_data#load_from_disk( os.path.join(self.config.data_path,\"final_data/\"))\n",
    "\n",
    "        \n",
    "        train_examples, train_dataloader = self.get_dataloader(dataset, \"train\")\n",
    "        torch.save(train_dataloader, os.path.join(self.config.root_dir,\"train.pth\"))\n",
    "\n",
    "        \n",
    "        val_examples, val_dataloader = self.get_dataloader(dataset, \"val\")\n",
    "        val_evaluator = evaluation.EmbeddingSimilarityEvaluator([],[],[]).from_input_examples(examples=val_examples)\n",
    "        torch.save(val_dataloader, os.path.join(self.config.root_dir,\"val.pth\"))\n",
    "        torch.save(val_evaluator, os.path.join(self.config.root_dir,\"val_eval.pth\"))\n",
    "\n",
    "        test_examples, test_dataloader = self.get_dataloader(dataset, \"test\")\n",
    "        test_evaluator = evaluation.EmbeddingSimilarityEvaluator([],[],[]).from_input_examples(examples=test_examples)\n",
    "        torch.save(test_dataloader, os.path.join(self.config.root_dir,\"test.pth\"))\n",
    "        torch.save(test_evaluator, os.path.join(self.config.root_dir,\"test_eval.pth\"))\n"
   ]
  },
  {
   "cell_type": "code",
   "execution_count": 32,
   "metadata": {},
   "outputs": [
    {
     "name": "stdout",
     "output_type": "stream",
     "text": [
      "[2023-11-27 02:18:20,711: INFO: common: yaml file: config\\config.yaml loaded successfully]\n",
      "[2023-11-27 02:18:20,714: INFO: common: yaml file: params.yaml loaded successfully]\n",
      "[2023-11-27 02:18:20,716: INFO: common: created directory at: artifacts]\n",
      "[2023-11-27 02:18:20,718: INFO: common: created directory at: artifacts/data_transformation]\n",
      "True\n",
      "[2023-11-27 02:18:22,078: INFO: 1858167745: in train, We have a <class 'list'> of length 4 containing <class 'sentence_transformers.readers.InputExample.InputExample'>'s.]\n",
      "[2023-11-27 02:18:22,086: INFO: 1858167745: in val, We have a <class 'list'> of length 1 containing <class 'sentence_transformers.readers.InputExample.InputExample'>'s.]\n",
      "[2023-11-27 02:18:22,091: INFO: 1858167745: in test, We have a <class 'list'> of length 5 containing <class 'sentence_transformers.readers.InputExample.InputExample'>'s.]\n"
     ]
    }
   ],
   "source": [
    "try:\n",
    "    config = ConfigurationManager()\n",
    "    data_transformation_config = config.get_data_transformation_config()\n",
    "    data_transformation = DataTransformation(config=data_transformation_config)\n",
    "    data_transformation.convert()\n",
    "except Exception as e:\n",
    "    raise e"
   ]
  },
  {
   "cell_type": "code",
   "execution_count": null,
   "metadata": {},
   "outputs": [],
   "source": []
  }
 ],
 "metadata": {
  "kernelspec": {
   "display_name": "fetch",
   "language": "python",
   "name": "python3"
  },
  "language_info": {
   "codemirror_mode": {
    "name": "ipython",
    "version": 3
   },
   "file_extension": ".py",
   "mimetype": "text/x-python",
   "name": "python",
   "nbconvert_exporter": "python",
   "pygments_lexer": "ipython3",
   "version": "3.10.0"
  }
 },
 "nbformat": 4,
 "nbformat_minor": 2
}
